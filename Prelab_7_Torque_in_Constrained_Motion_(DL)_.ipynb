{
  "nbformat": 4,
  "nbformat_minor": 0,
  "metadata": {
    "colab": {
      "name": "Prelab 7 - Torque in Constrained Motion (DL) .ipynb",
      "provenance": [],
      "collapsed_sections": [],
      "include_colab_link": true
    },
    "kernelspec": {
      "name": "python3",
      "display_name": "Python 3"
    }
  },
  "cells": [
    {
      "cell_type": "markdown",
      "metadata": {
        "id": "view-in-github",
        "colab_type": "text"
      },
      "source": [
        "<a href=\"https://colab.research.google.com/github/Athic-code/hello-world/blob/master/Prelab_7_Torque_in_Constrained_Motion_(DL)_.ipynb\" target=\"_parent\"><img src=\"https://colab.research.google.com/assets/colab-badge.svg\" alt=\"Open In Colab\"/></a>"
      ]
    },
    {
      "cell_type": "markdown",
      "metadata": {
        "id": "IxEsykfsXa59"
      },
      "source": [
        "---\n",
        "\n",
        "<h1><center>$\\text{ Prelab 7: Torque in Constrained Motion (DL)}$</center></h1>\n",
        "\n",
        "---"
      ]
    },
    {
      "cell_type": "markdown",
      "metadata": {
        "id": "HCh1yGcfcweU"
      },
      "source": [
        "---\n",
        " <a rel=\"license\" href=\"http://creativecommons.org/licenses/by-nc-sa/4.0/\"><img alt=\"Creative Commons License\" style=\"border-width:0\" src=\"https://i.creativecommons.org/l/by-nc-sa/4.0/80x15.png\" /></a><br /><span xmlns:dct=\"http://purl.org/dc/terms/\" property=\"dct:title\">UConn PHYS1401 Teaching Colab Files</span> by <span xmlns:cc=\"http://creativecommons.org/ns#\" property=\"cc:attributionName\">M. Phelps, J. Hancock, Z. Transport, M. Abramczyk, H. Morrill  </span> is licensed under a <a rel=\"license\" href=\"http://creativecommons.org/licenses/by-nc-sa/4.0/\">Creative Commons Attribution-NonCommercial-ShareAlike 4.0 International License</a>.\n",
        "\n",
        "---"
      ]
    },
    {
      "cell_type": "code",
      "metadata": {
        "id": "2dE-c5A8n1t-",
        "cellView": "form"
      },
      "source": [
        "#@title <font color=\"blue\"> Make a copy of this file before proceeding!\n",
        "#Section = \"001 - MTTh 8am-9:55am\" #@param [\"001 - MTTh 8am-9:55am\", \"002 - MTTh 10:10am-12:05pm\", \"003 - MTTh 12:20pm-2:15pm\", \"004 - MTTh 2:30pm-4:25pm\"]\n",
        "Section = \"001 - MWF 10:10am-12:05pm\" #@param [\"001 - MWF 10:10am-12:05pm\", \"002 - MWF 12:20pm-2:15pm\"]\n",
        "Student_Name = \"\" #@param {type:\"string\"}\n",
        "#@title <font color=\"blue\"> Make a copy of this file before proceeding!\n"
      ],
      "execution_count": null,
      "outputs": []
    },
    {
      "cell_type": "markdown",
      "metadata": {
        "id": "UUcqgT35p2b2"
      },
      "source": [
        "To prepare you for Lab 7, we will derive an expression that describes the torque of the rotational inertia platform."
      ]
    },
    {
      "cell_type": "markdown",
      "metadata": {
        "id": "ckIKJXIa2I2T"
      },
      "source": [
        "---\n",
        "\n",
        "# <font color=\"black\"> $\\text{Background}$\n",
        "\n",
        "---"
      ]
    },
    {
      "cell_type": "markdown",
      "metadata": {
        "id": "vbBzTuIZZjN1"
      },
      "source": [
        "Lab 7 will involve the same rotational apparatus as in **Part a** of Lab 6; a hanging mass supplies a tension force upon the pulley, providing a torque which induces an angular acceleration of all objects attached to the rotational platform.  \n",
        "\n",
        "We will again use the following simulation to estimate the below figure:\n",
        "\n",
        "https://simbucket.com/angularacceleration/\n",
        "\n",
        "Note that in the figure below the moment of inertia, $I$, is given as $I = I_p + I_s$.  In the simulation the moment of inertia of the platter is given by $I$ only.\n",
        "\n",
        "The terms \"pulley radius,\" and \"spindle radius,\" are interchangeable in this lab, denoted by $r$."
      ]
    },
    {
      "cell_type": "markdown",
      "metadata": {
        "id": "KQsgrkplqM9W"
      },
      "source": [
        "![Rotational Inertia Apparatus Setup](https://drive.google.com/uc?id=1OSW1hx-0-meMWlBAgcaiK2twqjGab_3M)"
      ]
    },
    {
      "cell_type": "markdown",
      "metadata": {
        "id": "XLceUhcQqNIf"
      },
      "source": [
        "Lab 7 will explore the effect of torque upon varying either the pulley radius, hanging mass, or square mass position (and thus moment of inertia)."
      ]
    },
    {
      "cell_type": "markdown",
      "metadata": {
        "id": "CVJjlKSHpuic"
      },
      "source": [
        "---\n",
        "\n",
        "# <font color=\"black\"> $\\text{Torque Derivation}$\n",
        "\n",
        "---"
      ]
    },
    {
      "cell_type": "markdown",
      "metadata": {
        "id": "F1P0s8_SqfZs"
      },
      "source": [
        "![Diagram of Rotational Apparatus](https://drive.google.com/uc?id=1qjuM5r0CR8d2B-faBVjgV85MdS4ZBcye)"
      ]
    },
    {
      "cell_type": "markdown",
      "metadata": {
        "id": "0BS5zaVwqn9u"
      },
      "source": [
        "Consider the sketch of the rotational apparatus above, where a massless string connected to a blue pulley of radius $r$ passes over a black pulley and is attached to a hanging mass $m_h$. Assuming both pulleys are massless, the platform and adjustable square mass comprise the total inertia $I$.\n",
        "<br /> <br />\n",
        "The hanging mass is subjected to the force of tension acting upward and the gravitational force acting downward, as shown in the hanging mass free-body diagram below.  Here we assume that the hanging mass moving downward is the positive direction."
      ]
    },
    {
      "cell_type": "markdown",
      "metadata": {
        "id": "I4L0TE0greRS"
      },
      "source": [
        "![Hanging Mass Free-Body Diagram](https://drive.google.com/uc?id=1mbXWmISAZ9y5gJc6b8XQVxzJ8KOMvHw1)"
      ]
    },
    {
      "cell_type": "markdown",
      "metadata": {
        "id": "13c54R5Tri3M"
      },
      "source": [
        "The force of tension acts on the pulley of radius $r$ to cause a torque about the z-axis, as shown in the pulley free-body diagram below."
      ]
    },
    {
      "cell_type": "markdown",
      "metadata": {
        "id": "_0F6OKPzsELi"
      },
      "source": [
        "![Pulley Free-Body Diagram](https://drive.google.com/uc?id=17CBwNZTem2ejSBKCtcOGgk9x3xtXfs7T)"
      ]
    },
    {
      "cell_type": "markdown",
      "metadata": {
        "id": "muaXYGswsNa4"
      },
      "source": [
        "* Q1: Derive an expression for the tension of the hanging mass based on the free-body diagram for the hanging mass.  Express $T$ in terms of $m_h$, $g$, and $a$ (where $a$ is the y-component of the hanging mass acceleration)."
      ]
    },
    {
      "cell_type": "code",
      "metadata": {
        "id": "9xAWCE35-1Qu",
        "cellView": "form"
      },
      "source": [
        "Q1 = \"\" #@param {type:\"string\"}"
      ],
      "execution_count": null,
      "outputs": []
    },
    {
      "cell_type": "markdown",
      "metadata": {
        "id": "LhdREkF0shFt"
      },
      "source": [
        "* Q2: In the regime where the linear acceleration of the hanging mass is very slow compared to the gravitational acceleration, $a \\ll g$, what is the approximate tension?"
      ]
    },
    {
      "cell_type": "code",
      "metadata": {
        "id": "70BuIFX_tO7I",
        "cellView": "form"
      },
      "source": [
        "Q2 = \"\" #@param {type:\"string\"}"
      ],
      "execution_count": null,
      "outputs": []
    },
    {
      "cell_type": "markdown",
      "metadata": {
        "id": "rlNCdt_PtPxk"
      },
      "source": [
        "* Q3: Use the resulting tension from Q2 together with the torque equation, $\\tau = | \\textbf{r} \\times \\textbf{F} |$, to derive an expression for $\\tau$ in terms of $r$, $m_h$, and $g$. (See the free-body diagram for the pulley.)"
      ]
    },
    {
      "cell_type": "code",
      "metadata": {
        "id": "-OqBgb3jtkQn",
        "cellView": "form"
      },
      "source": [
        "Q3 = \"\" #@param {type:\"string\"}"
      ],
      "execution_count": null,
      "outputs": []
    },
    {
      "cell_type": "markdown",
      "metadata": {
        "id": "Wbibvn6jjxvN"
      },
      "source": [
        "---\n",
        "Next you'll be making a qualitative observation about torque in your own home: \n",
        "  * Find any door in your house and attempt to push it open from a closed, unlatched position by applying a force to its edge where the handle is located.  \n",
        "  * Swing the door closed and repeat this, next by pushing the door open from its center with the same amount of force.\n",
        "  * Lastly, repeat this process by tyring to push the door open from the edge near its hinges."
      ]
    },
    {
      "cell_type": "markdown",
      "metadata": {
        "id": "FMTrgtx5kyb-"
      },
      "source": [
        "---\n",
        "* Q4: Record your observations of the above procedure in the cell below. (Hint: think about how fast the door opened, and where it felt \"easiest\" to push)"
      ]
    },
    {
      "cell_type": "code",
      "metadata": {
        "cellView": "form",
        "id": "7pg6s3MQjxvQ"
      },
      "source": [
        "Q4 = \"\" #@param {type:\"string\"}"
      ],
      "execution_count": null,
      "outputs": []
    },
    {
      "cell_type": "markdown",
      "metadata": {
        "id": "RPT9lnKnakye"
      },
      "source": [
        "---\n",
        "---"
      ]
    },
    {
      "cell_type": "markdown",
      "metadata": {
        "id": "aqQBEl1z3UVP"
      },
      "source": [
        "---\n",
        "\n",
        "# <font color=\"black\"> $\\text{Data Collection}$\n",
        "\n",
        "---"
      ]
    },
    {
      "cell_type": "markdown",
      "metadata": {
        "id": "U50n-SkF4mc-"
      },
      "source": [
        "---\n",
        "\n",
        "https://simbucket.com/angularacceleration/\n",
        "\n",
        "---"
      ]
    },
    {
      "cell_type": "markdown",
      "metadata": {
        "id": "ysJZf72O3X0i"
      },
      "source": [
        "---\n",
        "\n",
        "### $\\text{Part A: Varying $m_h$ and $r$}$\n",
        "\n",
        "---"
      ]
    },
    {
      "cell_type": "markdown",
      "metadata": {
        "id": "5718bpIrgpG1"
      },
      "source": [
        "**For Part A we will keep the moment of inertia constant for all trials, using $I_2 = 0.04\\ kgm^2$.**"
      ]
    },
    {
      "cell_type": "markdown",
      "metadata": {
        "id": "0Tm2jyKMdL1v"
      },
      "source": [
        "* Choose a spindle radius and record that value in the cell below in meters $(m)$:  "
      ]
    },
    {
      "cell_type": "code",
      "metadata": {
        "cellView": "form",
        "id": "d8fsMJNmiSoU"
      },
      "source": [
        "\n",
        "radius_a = \"\" #@param {type:\"string\"}\n"
      ],
      "execution_count": null,
      "outputs": []
    },
    {
      "cell_type": "markdown",
      "metadata": {
        "id": "zhJDaNItmU1-"
      },
      "source": [
        "* Record the angular accelearation $\\alpha$ in $(rad/s^2)$ in the cell below for each of the three available hanging masses."
      ]
    },
    {
      "cell_type": "code",
      "metadata": {
        "id": "DZaWs5d-eHZm"
      },
      "source": [
        "mh_a = (m1, m2, m3)\n",
        "alpha_a = (a1, a2, a3)"
      ],
      "execution_count": null,
      "outputs": []
    },
    {
      "cell_type": "markdown",
      "metadata": {
        "id": "wQz6zXeNcLuv"
      },
      "source": [
        " * Copy and paste your collected data in the \"part_a_data,\" cell below."
      ]
    },
    {
      "cell_type": "code",
      "metadata": {
        "cellView": "form",
        "id": "NPkDVCPPclEs"
      },
      "source": [
        "\n",
        "part_a_data = \"\" #@param {type:\"string\"}\n"
      ],
      "execution_count": null,
      "outputs": []
    },
    {
      "cell_type": "markdown",
      "metadata": {
        "id": "kFxTcs3m3hnY"
      },
      "source": [
        "---\n",
        "\n",
        "### $\\text{Part B: Varying $I$}$\n",
        "\n",
        "---"
      ]
    },
    {
      "cell_type": "markdown",
      "metadata": {
        "id": "2pT_GNbwhP81"
      },
      "source": [
        "**For Part B we will keep the spindle/pulley radius constant for all trials, using $r_3 = 0.04\\ m$.**"
      ]
    },
    {
      "cell_type": "markdown",
      "metadata": {
        "id": "cg9Njb_TjEfa"
      },
      "source": [
        "* Choose a moment of inertia, $I$, and record that value in the cell below in $kgm^2$:  "
      ]
    },
    {
      "cell_type": "code",
      "metadata": {
        "cellView": "form",
        "id": "CP7g9hVTjEfa"
      },
      "source": [
        "\n",
        "I_b = \"\" #@param {type:\"string\"}\n"
      ],
      "execution_count": null,
      "outputs": []
    },
    {
      "cell_type": "markdown",
      "metadata": {
        "id": "M3l-X-gsjEfc"
      },
      "source": [
        "* Record the angular accelearation $\\alpha$ in $(rad/s^2)$ in the cell below for each of the three available hanging masses."
      ]
    },
    {
      "cell_type": "code",
      "metadata": {
        "id": "C0nVRWTBjEfc"
      },
      "source": [
        "mh_b = (m1, m2, m3)\n",
        "alpha_b = (a1, a2, a3)"
      ],
      "execution_count": null,
      "outputs": []
    },
    {
      "cell_type": "markdown",
      "metadata": {
        "id": "vgNRaoXR9Fba"
      },
      "source": [
        " * Copy and paste your collected data in the \"part_b_data,\" cell below."
      ]
    },
    {
      "cell_type": "code",
      "metadata": {
        "cellView": "form",
        "id": "gAzUmhS_9Fbb"
      },
      "source": [
        "\n",
        "part_b_data = \"\" #@param {type:\"string\"}\n"
      ],
      "execution_count": null,
      "outputs": []
    },
    {
      "cell_type": "markdown",
      "metadata": {
        "id": "pKys0bpDe9iX"
      },
      "source": [
        "---\n",
        "\n",
        "---\n",
        "\n",
        "---"
      ]
    },
    {
      "cell_type": "code",
      "metadata": {
        "id": "CxjXQJAGpTjR",
        "cellView": "form"
      },
      "source": [
        "#@title <font color=\"blue\">  To receive FULL CREDIT, you MUST run this cell AFTER completing the lab and upload the PDF file to HuskyCT. To access the PDF, click on the \"File\" icon in the toolbar to the left.\n",
        "!pip install reportlab\n",
        "import datetime\n",
        "\n",
        "from reportlab.lib import colors\n",
        "from reportlab.lib.pagesizes import letter, inch, portrait\n",
        "from reportlab.platypus import SimpleDocTemplate, Table, TableStyle, Paragraph, Image, PageBreak, Spacer\n",
        "from reportlab.lib.styles import getSampleStyleSheet\n",
        "\n",
        "Course_Number = \"1401Q\"\n",
        "Lab_Number = \"PL07\"\n",
        "file_timestamp = datetime.datetime.today().strftime('%Y-%m')\n",
        "Section_Number = (Section)[0:3]\n",
        "\n",
        "doc = SimpleDocTemplate(str(file_timestamp)+\"_\"+str(Course_Number)+\n",
        "                        \"_\"+str(Lab_Number)+ \"_\"+str(Section)+\n",
        "                        \"_\"+str(Student_Name)+\".pdf\",\n",
        "                        pagesize=letter, rightMargin=50,\n",
        "                        leftMargin=50, topMargin=50,bottomMargin=50)\n",
        "doc.pagesize = portrait(letter)\n",
        "elements = []\n",
        "\n",
        "timestamp = datetime.datetime.now().isoformat()\n",
        "\n",
        "data = [\n",
        "[\"timestamp:\", timestamp],\n",
        "[\"Course_Number:\", Course_Number],\n",
        "[\"Section_Number:\", Section_Number],\n",
        "[\"Lab_Number:\", Lab_Number],\n",
        "#[\"Group_Number:\", Group_Number],\n",
        "#[\"Group_Members:\", Group_Members],\n",
        "[\"Student_Name:\", Student_Name],\n",
        "[\"Q1:\", Q1],\n",
        "[\"Q2:\", Q2],\n",
        "[\"Q3:\", Q3],\n",
        "[\"Q4:\", Q4],\n",
        "[\"part_a_data:\", part_a_data],\n",
        "[\"part_b_data:\", part_b_data]\n",
        "]\n",
        "\n",
        "#TODO: Get this line right instead of just copying it from the docs\n",
        "style = TableStyle([('ALIGN',(1,1),(-2,-2),'RIGHT'),\n",
        "                       ('TEXTCOLOR',(1,1),(-2,-2),colors.red),\n",
        "                       ('VALIGN',(0,0),(0,-1),'TOP'),\n",
        "                       ('TEXTCOLOR',(0,0),(0,-1),colors.blue),\n",
        "                       ('ALIGN',(0,-1),(-1,-1),'CENTER'),\n",
        "                       ('VALIGN',(0,-1),(-1,-1),'MIDDLE'),\n",
        "                       ('TEXTCOLOR',(0,-1),(-1,-1),colors.green),\n",
        "                       ('INNERGRID', (0,0), (-1,-1), 0.25, colors.black),\n",
        "                       ('BOX', (0,0), (-1,-1), 0.25, colors.black),\n",
        "                       ])\n",
        "\n",
        "#Configure style and word wrap\n",
        "s = getSampleStyleSheet()\n",
        "s = s[\"BodyText\"]\n",
        "s.wordWrap = 'CJK'\n",
        "data2 = [[Paragraph(cell, s) for cell in row] for row in data]\n",
        "t=Table(data2,colWidths=(100,None))\n",
        "t.setStyle(style)\n",
        "\n",
        "#Send the data and build the file\n",
        "elements.append(t)\n",
        "doc.build(elements)"
      ],
      "execution_count": null,
      "outputs": []
    }
  ]
}